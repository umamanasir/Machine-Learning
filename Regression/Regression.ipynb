{
  "cells": [
    {
      "cell_type": "markdown",
      "id": "03373c37",
      "metadata": {
        "id": "03373c37"
      },
      "source": [
        "# Machine Learning (CS535): Assignment 2\n",
        "## Linear and Logistic Regression\n",
        "#### Name: Umama Nasir Abbasi\n",
        "#### Roll Number: 23100265"
      ]
    },
    {
      "cell_type": "markdown",
      "id": "b52f8f19",
      "metadata": {
        "id": "b52f8f19"
      },
      "source": [
        "### Instructions\n",
        "\n",
        "\n",
        "*   The aim of this assignment is to implement linear and logistic regression from scratch.\n",
        "*   You must use the Python programming language.\n",
        "*   You can add as many code/markdown cells as required.\n",
        "*   ALL cells must be run (and outputs visible) in order to get credit for your work.\n",
        "*   Please use procedural programming style and comment your code thoroughly.\n",
        "*   There are two parts of this assignment. In part 1, you can use **NumPy**, **Pandas**, **Matplotlib**, **Seaborn**, and any other standard Python libraries. You are $\\color{red}{\\text{not allowed}}$ to use **scikit-learn**, or any other machine learning toolkit. You can only use **scikit-learn** in part 2.\n",
        "*   **Carefully read the submission instructions and plagiarism policy.**\n",
        "*   Deadline to submit this assignment is 7th November 2022, 11:55pm on LMS.\n",
        "\n",
        "### Submission Instructions\n",
        "\n",
        "You should submit both your notebook file (.ipynb) and python script (.py) on LMS.\n",
        "Please name your files Name_RollNo_Assignment2. Zip these files in a folder and name\n",
        "the folder Name_RollNo_Assignment2. If you don't know how to save .ipynb as .py see\n",
        "[this](https://i.stack.imgur.com/L1rQH.png). Failing to submit any one of them might result in the reduction of marks.\n",
        "\n",
        "### Plagiarism Policy\n",
        "\n",
        "The code $\\color{red}{\\text{MUST}}$ be done independently. Any plagiarism or cheating of work from others\n",
        "or the internet will be immediately referred to the DC. If you are confused about what\n",
        "constitutes plagiarism, it is your responsibility to consult with the instructor or the TA\n",
        "in a timely manner. **PLEASE DO NOT LOOK AT ANYONE ELSE'S CODE\n",
        "NOR DISCUSS IT WITH THEM.**\n"
      ]
    },
    {
      "cell_type": "markdown",
      "id": "d78cbb7c",
      "metadata": {
        "id": "d78cbb7c"
      },
      "source": [
        "### Introduction\n",
        "In this assignment, you will be implementing linerar regression and logistic regression models for the provided datasets from scratch. A description of the problem statement is given at the start of each part. \n",
        "\n",
        "Try to write modeular code as some of the functions you write for task 1 may be usable in task 2.\n",
        "\n",
        "Have fun!"
      ]
    },
    {
      "cell_type": "markdown",
      "id": "dfb0858b",
      "metadata": {
        "id": "dfb0858b"
      },
      "source": [
        "## Task 1: Multivariate Linear Regression\n",
        "\n",
        "In this part, you will implement multivariate linear regression (from scratch) to predict the the median price of homes in a Boston suburb during the mid-1970s. To do this, you are given with the dataset that has 404 examples in the train set and 102 examples in test set. Each example has 13 input variables (features) and one output variable (price in $10,000s). Below is the description of input variables:\n",
        "\n",
        "- Per capita crime rate.\n",
        "- The proportion of residential land zoned for lots over 25,000 square feet.\n",
        "- The proportion of non-retail business acres per town.\n",
        "- Charles River dummy variable (= 1 if tract bounds river; 0 otherwise).\n",
        "- Nitric oxides concentration (parts per 10 million).\n",
        "- The average number of rooms per dwelling.\n",
        "- The proportion of owner-occupied units built before 1940.\n",
        "- Weighted distances to five Boston employment centers.\n",
        "- Index of accessibility to radial highways.\n",
        "- Full-value property-tax rate per $10,000.\n",
        "- Pupil-teacher ratio by town.\n",
        "- 1000 * (Bk - 0.63) ** 2 where Bk is the proportion of Black people by town.\n",
        "- Percentage lower status of the population.\n",
        "\n",
        "Each one of these input features is stored using a different scale. Some features are represented by a proportion between 0 and 1, other features are ranges between 1 and 12, some are ranges between 0 and 100, and so on. This is often the case with real-world data, and understanding how to explore and clean such data is an important skill to develop.\n",
        "\n",
        "A common way to normalize features that use different scales and ranges is:\n",
        "\n",
        "- Subtract the mean value of each feature from the dataset.\n",
        "- After subtracting the mean, additionally scale (divide) the feature values by their respective standard deviations.\n",
        "\n",
        "Note: We only use examples of the train set to estimate the mean and standard deviation.\n",
        "\n",
        "You have to follow exactly the same steps as above i.e. implement hypothesis, cost function and gradient descent for multivariate linear regression to learn parameters $\\theta$ using train set. Finally, report the cost (error) using your learned parameters $\\theta$ on test set. Expected Mean Square Error on this dataset is 11.5 - 12.5 approximately. \n",
        "\n",
        "We provide you with the code needed to load this dataset. The dataset is loaded from the data files into the variables `train_X`, `train_Y`, `test_X` and `test_Y`."
      ]
    },
    {
      "cell_type": "markdown",
      "id": "a7012f9a",
      "metadata": {
        "id": "a7012f9a"
      },
      "source": [
        "### Part A: Implementation from scratch\n",
        "\n",
        "Use the slides and textbook as a reference to write the gradient descent algorithm from scratch for this problem."
      ]
    },
    {
      "cell_type": "code",
      "execution_count": null,
      "id": "6691b1c9",
      "metadata": {
        "id": "6691b1c9"
      },
      "outputs": [],
      "source": [
        "import pandas as pd\n",
        "import re\n",
        "import glob \n",
        "import numpy as np \n",
        "import math \n",
        "import matplotlib as plt"
      ]
    },
    {
      "cell_type": "code",
      "execution_count": null,
      "id": "bd302b60",
      "metadata": {
        "id": "bd302b60"
      },
      "outputs": [],
      "source": [
        "#reading data. \n",
        "\n",
        "train_X1 = pd.read_csv('Dataset/Task1/trainData.txt', sep = ' ', header = None)\n",
        "train_Y1 =  pd.read_csv('Dataset/Task1/trainLabels.txt', sep = ' ', header = None)\n",
        "test_X1  =  pd.read_csv('Dataset/Task1/testData.txt', sep = ' ', header = None)\n",
        "test_Y1  =  pd.read_csv('Dataset/Task1/testLabels.txt', sep = ' ', header = None)"
      ]
    },
    {
      "cell_type": "code",
      "execution_count": null,
      "id": "6ea8cb2f",
      "metadata": {
        "id": "6ea8cb2f"
      },
      "outputs": [],
      "source": [
        "# print(len(train_X))\n",
        "\n",
        "train_X = np.array(train_X1)\n",
        "train_Y = np.array(train_Y1)"
      ]
    },
    {
      "cell_type": "code",
      "execution_count": null,
      "id": "3ceede58",
      "metadata": {
        "id": "3ceede58"
      },
      "outputs": [],
      "source": [
        "def square_loss(prediction, actual): \n",
        "    m = prediction.shape[0]\n",
        "    square_loss = ( prediction - actual) ** 2\n",
        "    return np.array(np.sum(square_loss)/(2*m))\n",
        "        "
      ]
    },
    {
      "cell_type": "code",
      "execution_count": null,
      "id": "b74c6282",
      "metadata": {
        "id": "b74c6282"
      },
      "outputs": [],
      "source": [
        "def testMeasures(): \n",
        "    mean = []\n",
        "    std = []\n",
        "    for  i in range( train_X.shape[1]):\n",
        "        mean.append(np.mean(train_X[:,i]))\n",
        "        std.append(np.std(train_X[:,i]))\n",
        "    return np.array([mean,std])"
      ]
    },
    {
      "cell_type": "code",
      "execution_count": null,
      "id": "e2cabe5a",
      "metadata": {
        "id": "e2cabe5a"
      },
      "outputs": [],
      "source": [
        "def normalize(x): \n",
        "    #mean/std for each class. \n",
        "    \n",
        "    j = testMeasures()\n",
        "    print(j.shape)\n",
        "    mean = j[0].flatten()\n",
        "    std = j[1]\n",
        "    print(len(mean))\n",
        "    print(x.shape)\n",
        "    y = np.zeros(x.shape)\n",
        "    for i in range(x.shape[1]):\n",
        "        m = mean[i]\n",
        "        s = std[i]\n",
        "        y[:,i] = ( (x[:,i] - m) / s )\n",
        "    return y  "
      ]
    },
    {
      "cell_type": "code",
      "execution_count": null,
      "id": "5a3b602b",
      "metadata": {
        "id": "5a3b602b"
      },
      "outputs": [],
      "source": [
        "def prediction_linear(x, theta): \n",
        "    return np.dot(x,theta)\n"
      ]
    },
    {
      "cell_type": "code",
      "execution_count": null,
      "id": "cb90f290",
      "metadata": {
        "id": "cb90f290"
      },
      "outputs": [],
      "source": [
        "\n",
        "def gradient_descent (predicted, alpha, theta, train_Label, train_X):\n",
        "    m = train_X.shape[0]\n",
        "    differential = (1/m)* np.dot(train_X.transpose(), ( predicted - train_Label) )\n",
        "    tempJ = theta - (alpha * differential)\n",
        "    tempJ = np.array(tempJ)\n",
        "    return tempJ\n"
      ]
    },
    {
      "cell_type": "code",
      "execution_count": null,
      "id": "f23bf214",
      "metadata": {
        "id": "f23bf214"
      },
      "outputs": [],
      "source": [
        "def Linear_Regression(train_X, train_label, epochs, alpha, theta):\n",
        "    train_X = normalize(train_X)\n",
        "    x_0 =np.ones((train_X.shape[0],1))\n",
        "    train_X = np.append(train_X, x_0, axis=1)\n",
        "    for i in range(epochs): \n",
        "        predict = prediction_linear(train_X, theta)\n",
        "        cost = square_loss(predict, train_label)\n",
        "        print(\"epoch: \", i, \" cost is: \", cost)\n",
        "        theta = gradient_descent(predict,alpha, theta, train_label, train_X )\n",
        "    return theta\n"
      ]
    },
    {
      "cell_type": "code",
      "execution_count": null,
      "id": "b838bdaf",
      "metadata": {
        "id": "b838bdaf",
        "outputId": "313a921c-b294-4b2f-ef0d-6b8218cd6665"
      },
      "outputs": [
        {
          "name": "stdout",
          "output_type": "stream",
          "text": [
            "(2, 13)\n",
            "13\n",
            "(404, 13)\n",
            "epoch:  0  cost is:  [289.508191]\n",
            "epoch:  1  cost is:  [220.41372074]\n",
            "epoch:  2  cost is:  [178.40908848]\n",
            "epoch:  3  cost is:  [146.4721651]\n",
            "epoch:  4  cost is:  [120.93557173]\n",
            "epoch:  5  cost is:  [100.31641344]\n",
            "epoch:  6  cost is:  [83.63425287]\n",
            "epoch:  7  cost is:  [70.12918749]\n",
            "epoch:  8  cost is:  [59.19212422]\n",
            "epoch:  9  cost is:  [50.33168712]\n",
            "epoch:  10  cost is:  [43.15093205]\n",
            "epoch:  11  cost is:  [37.32906914]\n",
            "epoch:  12  cost is:  [32.60679387]\n",
            "epoch:  13  cost is:  [28.77446325]\n",
            "epoch:  14  cost is:  [25.66255522]\n",
            "epoch:  15  cost is:  [23.13396755]\n",
            "epoch:  16  cost is:  [21.07779985]\n",
            "epoch:  17  cost is:  [19.4043318]\n",
            "epoch:  18  cost is:  [18.04096676]\n",
            "epoch:  19  cost is:  [16.92895436]\n",
            "epoch:  20  cost is:  [16.0207421]\n",
            "epoch:  21  cost is:  [15.27783482]\n",
            "epoch:  22  cost is:  [14.66906432]\n",
            "epoch:  23  cost is:  [14.1691904]\n",
            "epoch:  24  cost is:  [13.75776963]\n",
            "epoch:  25  cost is:  [13.41824048]\n",
            "epoch:  26  cost is:  [13.13718331]\n",
            "epoch:  27  cost is:  [12.90372187]\n",
            "epoch:  28  cost is:  [12.70903892]\n",
            "epoch:  29  cost is:  [12.54598445]\n",
            "epoch:  30  cost is:  [12.40875855]\n",
            "epoch:  31  cost is:  [12.29265483]\n",
            "epoch:  32  cost is:  [12.19385263]\n",
            "epoch:  33  cost is:  [12.10924898]\n",
            "epoch:  34  cost is:  [12.03632239]\n",
            "epoch:  35  cost is:  [11.97302268]\n",
            "epoch:  36  cost is:  [11.91768175]\n",
            "epoch:  37  cost is:  [11.86894126]\n",
            "epoch:  38  cost is:  [11.82569413]\n",
            "epoch:  39  cost is:  [11.78703712]\n"
          ]
        }
      ],
      "source": [
        "theta = np.random.random(size = (train_X.shape[1]+1, 1))\n",
        "updated = Linear_Regression(train_X, train_Y, 40, 0.1, theta)\n"
      ]
    },
    {
      "cell_type": "code",
      "execution_count": null,
      "id": "163e42a3",
      "metadata": {
        "id": "163e42a3",
        "outputId": "cf2580f2-cf93-4597-d270-2878adae2b6f"
      },
      "outputs": [
        {
          "name": "stdout",
          "output_type": "stream",
          "text": [
            "(2, 13)\n",
            "13\n",
            "(102, 13)\n"
          ]
        }
      ],
      "source": [
        "x0_test = np.ones((test_X1.shape[0],1))\n",
        "test_X = np.array(test_X1) \n",
        "test_X = normalize(test_X)\n",
        "test_Y = np.array(test_Y1)\n",
        "test_X = np.append(test_X, x0_test, axis  =1)\n",
        "# print(x0_test.shape)"
      ]
    },
    {
      "cell_type": "code",
      "execution_count": null,
      "id": "66772920",
      "metadata": {
        "id": "66772920",
        "outputId": "b9f9fe13-8074-4061-c7a0-9121063d4ab4"
      },
      "outputs": [
        {
          "name": "stdout",
          "output_type": "stream",
          "text": [
            "cost:  10.823946750475615\n"
          ]
        }
      ],
      "source": [
        "linear_prediction = prediction_linear(test_X, updated)\n",
        "linear_cost = square_loss(linear_prediction, test_Y)\n",
        "print(\"cost: \", linear_cost)"
      ]
    },
    {
      "cell_type": "markdown",
      "id": "d133d738",
      "metadata": {
        "id": "d133d738"
      },
      "source": [
        "### Part B: Regularized Linear Regression Using Scikit-learn\n",
        "\n",
        "Now, you'll use the [scikit-learn](https://scikit-learn.org/stable/index.html) to implement [Linear Regression](https://scikit-learn.org/stable/modules/generated/sklearn.linear_model.LinearRegression.html), [Ridge](https://scikit-learn.org/stable/modules/generated/sklearn.linear_model.Ridge.html#sklearn.linear_model.Ridge), [Lasso](https://scikit-learn.org/stable/modules/generated/sklearn.linear_model.Lasso.html#sklearn.linear_model.Lasso), [Elastic Net](https://scikit-learn.org/stable/modules/generated/sklearn.linear_model.ElasticNet.html#sklearn.linear_model.ElasticNet) and apply them to Boston house pricing dataset (provided in part 2). Try out different values of regularization coefficient (known as alpha in scikit-learn) and use the [Mean Squared Error](https://scikit-learn.org/stable/modules/generated/sklearn.metrics.mean_squared_error.html) to report loss with each regression. Finally, plot the regularization coefficients alpha (x-axis) with learned parameters $\\theta$ (y-axis) for Ridge and Lasso. Please read [this blog](https://scienceloft.com/technical/understanding-lasso-and-ridge-regression/) to get better understanding of the desired plots."
      ]
    },
    {
      "cell_type": "code",
      "execution_count": null,
      "id": "c155552f",
      "metadata": {
        "id": "c155552f"
      },
      "outputs": [],
      "source": [
        "from sklearn.linear_model import LinearRegression\n",
        "from sklearn.metrics import mean_squared_error\n",
        "from sklearn.pipeline import make_pipeline\n",
        "from sklearn.preprocessing import StandardScaler\n",
        "from sklearn.linear_model import Ridge\n",
        "from sklearn.linear_model import Lasso\n",
        "from sklearn.linear_model import ElasticNet\n",
        "from matplotlib import pyplot as plt \n",
        "\n"
      ]
    },
    {
      "cell_type": "code",
      "execution_count": null,
      "id": "bf7026c6",
      "metadata": {
        "id": "bf7026c6"
      },
      "outputs": [],
      "source": [
        "test_X = np.array(test_X1) \n",
        "test_Y = np.array(test_Y1)\n",
        "# print(x0_test.shape)"
      ]
    },
    {
      "cell_type": "code",
      "execution_count": null,
      "id": "d68e4dd9",
      "metadata": {
        "id": "d68e4dd9",
        "outputId": "33f17836-466b-48b7-f0fe-3475092ffd53"
      },
      "outputs": [
        {
          "name": "stdout",
          "output_type": "stream",
          "text": [
            "Score:  23.195599256422998\n"
          ]
        }
      ],
      "source": [
        "model = LinearRegression()\n",
        "model.fit(train_X1, train_Y1)\n",
        "pred =model.predict(test_X)\n",
        "score = mean_squared_error(test_Y, pred)\n",
        "print(\"Score: \", score)\n"
      ]
    },
    {
      "cell_type": "code",
      "execution_count": null,
      "id": "f3f68454",
      "metadata": {
        "id": "f3f68454",
        "outputId": "e7443b32-f8fe-4940-e70a-cf220a31ff6e"
      },
      "outputs": [
        {
          "name": "stdout",
          "output_type": "stream",
          "text": [
            "Score:  25.286946353411157\n"
          ]
        }
      ],
      "source": [
        "en_model = ElasticNet()\n",
        "en_model.fit(train_X1, train_Y1)\n",
        "pred = en_model.predict(test_X)\n",
        "score = mean_squared_error(test_Y, pred)\n",
        "print(\"Score: \", score)\n"
      ]
    },
    {
      "cell_type": "code",
      "execution_count": null,
      "id": "e2242e19",
      "metadata": {
        "id": "e2242e19",
        "outputId": "52353ac0-728e-4210-e495-c16c89ad88d1"
      },
      "outputs": [
        {
          "name": "stdout",
          "output_type": "stream",
          "text": [
            "MSE -  22.573889366935223  Alpha:  [2.00e-04 5.00e-04 1.00e-04 1.00e-02 9.00e-01 2.34e-01 5.00e-04 1.00e-04\n",
            " 6.00e-01]\n"
          ]
        },
        {
          "data": {
            "text/plain": [
              "Text(0.5, 1.0, 'Ridge regularization vs parameters')"
            ]
          },
          "execution_count": 328,
          "metadata": {},
          "output_type": "execute_result"
        },
        {
          "data": {
            "image/png": "[encoded data removed]",
            "text/plain": [
              "<Figure size 432x288 with 1 Axes>"
            ]
          },
          "metadata": {
            "needs_background": "light"
          },
          "output_type": "display_data"
        }
      ],
      "source": [
        "alpha = np.array([0.0002, 0.0005, 0.0001, 0.01, 0.9, 0.234, 0.0005, 0.0001, 0.6])\n",
        "coeffecient = []\n",
        "mini = alpha[0]\n",
        "score_r = 100000000\n",
        "for a in alpha: \n",
        "    rid = Ridge(a)\n",
        "    rid.fit(train_X1, train_Y1)\n",
        "    prediction_rid = rid.predict(test_X)\n",
        "    c = mean_squared_error(test_Y, prediction_rid)\n",
        "    if c < score_r: \n",
        "        score_r = c\n",
        "        mini = alpha\n",
        "    coeffecient.append(rid.coef_.flatten())\n",
        "\n",
        "\n",
        "\n",
        "print(\"MSE - \", score_r, \" Alpha: \", mini)\n",
        "coeffecient = np.array(coeffecient)\n",
        "plt.plot(alpha, coeffecient)\n",
        "plt.xlabel(\"Value of alpha\")\n",
        "plt.ylabel(\"Values of thetas \")\n",
        "plt.title(\"Ridge regularization vs parameters\")\n"
      ]
    },
    {
      "cell_type": "markdown",
      "id": "797d9506",
      "metadata": {
        "id": "797d9506"
      },
      "source": [
        "## Task 2: Logistic Regression"
      ]
    },
    {
      "cell_type": "markdown",
      "id": "b5216e2a",
      "metadata": {
        "id": "b5216e2a"
      },
      "source": [
        "#### Problem:\n",
        "The purpose of this assignment is to get you familiar with sentiment classification. By the end of this assignment you will have your very own “Sentiment Analyzer”. You are given with Large Movie Review Dataset that contains separate labelled train and test set. Your task is to train a Logistic Regression classifier on train set and report accuracy on test set.\n",
        "\n",
        "#### Dataset:\n",
        "The core dataset contains 50,000 reviews split evenly into 25k train and 25k test sets. The overall distribution of labels is balanced (25k pos and 25k neg). There are two top-level directories [train/, test/] corresponding to the training and test sets. Each contains [pos/, neg/] directories for the reviews with binary labels positive and negative. Within these directories, reviews are stored in text files named following the convention [[id]_[rating].txt] where [id] is a unique id and [rating] is the star rating for that review on a 1-10 scale. For example, the file [test/pos/200_8.txt] is the text for a positive-labeled test set example with unique id 200 and star rating 8/10 from IMDb.\n",
        "\n",
        "#### Preprocessing:\n",
        "In the preprocessing step you’re required to remove the stop words and punctuation marks and other unwanted characters from the reviews and convert them to lower case. You may find the string and regex module useful for this purpose. A stop word list is provided with the assignment statement.\n",
        "\n",
        "#### Feature Extraction:\n",
        "In the feature extraction step you can you’ll represent each review by the 3 features 𝑥0, 𝑥1, 𝑥2 and 1 class label 𝑦 as shown in the table below:\n",
        "\n",
        "| Feature | Definition | Comment |\n",
        "| --- | --- | --- |\n",
        "| x_0 | count(positive words) ∈ review | Positive lexicon is provided |\n",
        "| --- | --- | --- |\n",
        "| x_2 | count(negative words) ∈ review | Negative lexicon is provided |\n",
        "| --- | --- | --- |\n",
        "| y | 1 if positive, 0 otherwise | Mentioned in directory name |\n"
      ]
    },
    {
      "cell_type": "code",
      "execution_count": null,
      "id": "94042de4",
      "metadata": {
        "id": "94042de4"
      },
      "outputs": [],
      "source": [
        "#Pre-Processing. \n",
        "file=open('Dataset/Task2/stop_words.txt','r')\n",
        "stopWords = file.read()\n",
        "punct =  r'[^\\w\\s]'\n",
        "breaks = r'<br/>'\n",
        "\n",
        "negatives = glob.glob('Dataset/Task2/train/neg'+ '/*.txt')\n",
        "final = []\n",
        "positives = glob.glob('Dataset/Task2/train/pos'+ '/*.txt')\n",
        "finalPos = [] \n",
        "\n",
        "for neg in negatives:\n",
        "    f=open(neg,'r', encoding=\"utf-8\")\n",
        "    sample = f.read()\n",
        "    sample = sample.lower()\n",
        "    res = re.sub(breaks, '', sample) \n",
        "    res2 = re.sub(punct, '', res) \n",
        "    res2 = res2.replace(stopWords, '') \n",
        "    final.append(res2)\n",
        "    f.close()\n",
        "    \n",
        "for pos in positives:\n",
        "    f=open(pos,'r', encoding=\"utf-8\")\n",
        "    sample = f.read()\n",
        "    sample = sample.lower()\n",
        "    res = re.sub(breaks, '', sample) \n",
        "    res2 = re.sub(punct, '', res) \n",
        "    res2 = res2.replace(stopWords, '') \n",
        "    finalPos.append(res2)\n",
        "    f.close()\n",
        "    "
      ]
    },
    {
      "cell_type": "code",
      "execution_count": null,
      "id": "4f202ece",
      "metadata": {
        "id": "4f202ece"
      },
      "outputs": [],
      "source": [
        "#feature extraction. \n",
        "# x_0 = 1\n",
        "x_1 = [] # count of + words \n",
        "x_2 = [] # count of - words\n",
        "y = [] # final label. \n",
        "\n",
        "file=open('Dataset/Task2/positive_words.txt','r')\n",
        "positive_words = file.read()\n",
        "positive_words = positive_words.split()\n",
        "\n",
        "file=open('Dataset/Task2/negative_words.txt','r')\n",
        "negative_words = file.read()\n",
        "negative_words = negative_words.split()\n",
        "\n",
        "for review in final: #for each -ve review\n",
        "    positive = 0\n",
        "    negative = 0\n",
        "    review = review.split()\n",
        "    for word in review: #words in each reviews.\n",
        "        if word in positive_words: #if word exists in positive words\n",
        "            positive = positive + 1\n",
        "        if word in negative_words: #if word exists in negative words.\n",
        "            negative = negative + 1\n",
        "     \n",
        "    x_1.append(positive)\n",
        "    x_2.append(negative)\n",
        "    y.append(0)\n",
        "    \n",
        "    \n",
        "for review in finalPos: #for each +ve review\n",
        "    positive = 0\n",
        "    negative = 0\n",
        "    review = review.split()\n",
        "    for word in review: #words in each reviews.\n",
        "        if word in positive_words: #if word exists in positive words\n",
        "            positive = positive + 1\n",
        "        if word in negative_words: #if word exists in negative words.\n",
        "            negative = negative + 1 \n",
        "    x_1.append(positive)\n",
        "    x_2.append(negative)\n",
        "    y.append(1)\n",
        "        "
      ]
    },
    {
      "cell_type": "code",
      "execution_count": null,
      "id": "ffc79a7a",
      "metadata": {
        "id": "ffc79a7a"
      },
      "outputs": [],
      "source": [
        "#test. \n",
        "\n",
        "negativesTest = glob.glob('Dataset/Task2/test/neg'+ '/*.txt')\n",
        "negTestLabel = np.zeros(len(negativesTest))\n",
        "positivesTest = glob.glob('Dataset/Task2/test/pos'+ '/*.txt')\n",
        "posTestLabel = np.ones(len(positivesTest))"
      ]
    },
    {
      "cell_type": "code",
      "execution_count": null,
      "id": "a99e58cd",
      "metadata": {
        "id": "a99e58cd"
      },
      "outputs": [],
      "source": [
        "testN = []\n",
        "testP = []\n",
        "for neg in negativesTest:\n",
        "    f=open(neg,'r', encoding=\"utf-8\")\n",
        "    sample = f.read()\n",
        "    sample = sample.lower()\n",
        "    res = re.sub(breaks, '', sample) \n",
        "    res2 = re.sub(punct, '', res) \n",
        "    res2 = res2.replace(stopWords, '') \n",
        "    testN.append(res2)\n",
        "    f.close()\n",
        "    \n",
        "for pos in positivesTest:\n",
        "    f=open(pos,'r', encoding=\"utf-8\")\n",
        "    sample = f.read()\n",
        "    sample = sample.lower()\n",
        "    res = re.sub(breaks, '', sample) \n",
        "    res2 = re.sub(punct, '', res) \n",
        "    res2 = res2.replace(stopWords, '') \n",
        "    testP.append(res2)\n",
        "    f.close()"
      ]
    },
    {
      "cell_type": "code",
      "execution_count": null,
      "id": "4cafa447",
      "metadata": {
        "id": "4cafa447"
      },
      "outputs": [],
      "source": [
        "t_1 = []\n",
        "t_2 = []\n",
        "t_y = []\n",
        "for review in testN: #for each -ve review\n",
        "    positive = 0\n",
        "    negative = 0\n",
        "    review = review.split()\n",
        "    for word in review: #words in each reviews.\n",
        "        if word in positive_words: #if word exists in positive words\n",
        "            positive = positive + 1\n",
        "        if word in negative_words: #if word exists in negative words.\n",
        "            negative = negative + 1\n",
        "     \n",
        "    t_1.append(positive)\n",
        "    t_2.append(negative)\n",
        "    t_y.append(0)\n",
        "    \n",
        "    \n",
        "for review in testP: #for each +ve review\n",
        "    positive = 0\n",
        "    negative = 0\n",
        "    review = review.split()\n",
        "    for word in review: #words in each reviews.\n",
        "        if word in positive_words: #if word exists in positive words\n",
        "            positive = positive + 1\n",
        "        if word in negative_words: #if word exists in negative words.\n",
        "            negative = negative + 1 \n",
        "    t_1.append(positive)\n",
        "    t_2.append(negative)\n",
        "    t_y.append(1)\n",
        "        "
      ]
    },
    {
      "cell_type": "code",
      "execution_count": null,
      "id": "e175592b",
      "metadata": {
        "id": "e175592b"
      },
      "outputs": [],
      "source": [
        "#Train: \n",
        "\n",
        "x_1 = np.array(x_1)\n",
        "x_2 = np.array(x_2)\n",
        "x_2 = np.reshape(x_2, (x_2.shape[0],1))\n",
        "X = x_1\n",
        "X = np.reshape(X,(x_1.shape[0],1))\n",
        "X = np.append(X, x_2, axis=1)\n",
        "X = X.transpose()\n",
        "temp_X = X\n",
        "y = np.array(y)\n",
        "temp_y = y\n",
        "y = np.reshape(y, (y.shape[0],1))\n",
        "\n",
        "#Test:\n",
        "t_1 = np.array(t_1)\n",
        "t_2 = np.array(t_2)\n",
        "t_2 = np.reshape(t_2, (t_2.shape[0],1))\n",
        "X_test = t_1\n",
        "X_test = np.reshape(X_test,(t_1.shape[0],1))\n",
        "X_test = np.append(X_test, t_2, axis=1)\n",
        "X_test = X_test.transpose()\n",
        "yTest = np.array(t_y)\n",
        "yTest = np.reshape(yTest, (yTest.shape[0],1))\n",
        "\n"
      ]
    },
    {
      "cell_type": "code",
      "execution_count": null,
      "id": "d3ddb45c",
      "metadata": {
        "id": "d3ddb45c",
        "outputId": "982ce33e-0b1b-4f01-d9c3-620224321fde"
      },
      "outputs": [
        {
          "name": "stdout",
          "output_type": "stream",
          "text": [
            "(2, 25000)\n",
            "(2, 25000)\n",
            "(25000, 1)\n",
            "(25000, 1)\n"
          ]
        }
      ],
      "source": [
        "print(X_test.shape)\n",
        "print(X.shape)\n",
        "print(yTest.shape)\n",
        "print(y.shape)"
      ]
    },
    {
      "cell_type": "markdown",
      "id": "331017de",
      "metadata": {
        "id": "331017de"
      },
      "source": [
        "### Part A: Implementation from scratch\n",
        "\n",
        "#### Guidelines:\n",
        "Implement the following in order to complete this part:\n",
        "* Sigmoid function\n",
        "* Cross-entropy loss function\n",
        "* Batch Gradient Descent\n",
        "* Prediction function that predict whether the label is 0 or 1 for test reviews using learned logistic regression (use the decision threshold of 0.5)\n",
        "* Evaluation function that calculates classification accuracy and confusion matrix on test set (the expected accuracy on the test set is around 72%)\n",
        "* Report plots with no. of iterations/ epochs on x-axis and training/ validation loss on y-axis."
      ]
    },
    {
      "cell_type": "code",
      "execution_count": null,
      "id": "78cb0908",
      "metadata": {
        "id": "78cb0908"
      },
      "outputs": [],
      "source": [
        "def sigmoid(x): \n",
        "    s = 1 / (1 + np.exp(-x))\n",
        "    return s "
      ]
    },
    {
      "cell_type": "code",
      "execution_count": null,
      "id": "8d5de57e",
      "metadata": {
        "id": "8d5de57e"
      },
      "outputs": [],
      "source": [
        "def cross_entropy(predicted, actual): \n",
        "    predicted = predicted.transpose().flatten()\n",
        "    loss = - np.average( (actual* np.log(predicted+0.000000001)) + ((1-actual)* np.log((1-predicted)+0.000000001)))\n",
        "    return loss\n"
      ]
    },
    {
      "cell_type": "code",
      "execution_count": null,
      "id": "704a0457",
      "metadata": {
        "id": "704a0457"
      },
      "outputs": [],
      "source": [
        "\n",
        "def batch_gradient_descent(alpha, X, y ,theta, predicted): \n",
        "    differential = np.dot(X, (predicted - y))\n",
        "    differential = np.reshape(differential, (differential.shape[0],1))\n",
        "    tempJ = theta - (alpha * differential)\n",
        "    tempJ = np.array(tempJ)\n",
        "\n",
        "    return tempJ"
      ]
    },
    {
      "cell_type": "code",
      "execution_count": null,
      "id": "245afd60",
      "metadata": {
        "id": "245afd60"
      },
      "outputs": [],
      "source": [
        "def prediction(x,t):\n",
        "    x = x.transpose()\n",
        "    l = np.dot(x,t)\n",
        "    return sigmoid(l)\n",
        " \n",
        " \n",
        "def predict(x, t, decision_threshold):\n",
        "    pred =  prediction(t,x).transpose().flatten()\n",
        "    ans = np.array([1 if p >= decision_threshold else 0 for p in pred])\n",
        "    return ans\n",
        "\n"
      ]
    },
    {
      "cell_type": "code",
      "execution_count": null,
      "id": "dfdfaf32",
      "metadata": {
        "id": "dfdfaf32"
      },
      "outputs": [],
      "source": [
        "def normalizeLogistic(x): \n",
        "    mean = []\n",
        "    std = []\n",
        "    for  i in range( x.shape[1]):\n",
        "        mean.append(np.mean(x[:,i]))\n",
        "        std.append(np.std(x[:,i]))\n",
        "    \n",
        "    y = np.zeros(x.shape)\n",
        "    for i in range(x.shape[1]):\n",
        "        m = mean[i]\n",
        "        s = std[i]\n",
        "        y[:,i] = ((x[:,i] - m) / s)\n",
        "    return y "
      ]
    },
    {
      "cell_type": "code",
      "execution_count": null,
      "id": "0cc8c2c1",
      "metadata": {
        "id": "0cc8c2c1"
      },
      "outputs": [],
      "source": [
        "def Logistic_Regression(trainData, trainLabel, epochs, learning_rate , theta, decision_threshold):\n",
        "    trainData = normalizeLogistic(trainData)\n",
        "    x_0 = np.ones((trainData.shape[1], 1))  \n",
        "    c =[]\n",
        "    trainData = np.append(trainData, x_0.transpose(), axis =0)\n",
        "    for i in range (epochs): \n",
        "        h = predict(trainData, theta, decision_threshold)\n",
        "        cost = cross_entropy(h, trainLabel)\n",
        "        print(\"cost for i: \", i , \" = \", cost)\n",
        "        c.append(cost)\n",
        "        theta = batch_gradient_descent(learning_rate, trainData, trainLabel, theta, h)\n",
        "    a = np.array([theta, np.array(c)])    \n",
        "    return a\n",
        "    "
      ]
    },
    {
      "cell_type": "code",
      "execution_count": null,
      "id": "be9e3432",
      "metadata": {
        "id": "be9e3432",
        "outputId": "bb524826-e964-4571-f2c9-86206642aee1"
      },
      "outputs": [
        {
          "name": "stderr",
          "output_type": "stream",
          "text": [
            "C:\\Users\\DELL\\AppData\\Local\\Temp\\ipykernel_10712\\2530889262.py:12: RuntimeWarning: invalid value encountered in divide\n",
            "  y[:,i] = ((x[:,i] - m) / s)\n"
          ]
        },
        {
          "name": "stdout",
          "output_type": "stream",
          "text": [
            "cost for i:  0  =  5.60688680411478\n",
            "cost for i:  1  =  10.361632917973209\n",
            "cost for i:  2  =  10.361632917973209\n",
            "cost for i:  3  =  10.361632917973209\n",
            "cost for i:  4  =  10.361632917973209\n",
            "cost for i:  5  =  10.361632917973209\n",
            "cost for i:  6  =  10.361632917973209\n",
            "cost for i:  7  =  10.361632917973209\n",
            "cost for i:  8  =  10.361632917973209\n",
            "cost for i:  9  =  10.361632917973209\n",
            "cost for i:  10  =  10.361632917973209\n",
            "cost for i:  11  =  10.361632917973209\n",
            "cost for i:  12  =  10.361632917973209\n",
            "cost for i:  13  =  10.361632917973209\n",
            "cost for i:  14  =  10.361632917973209\n",
            "cost for i:  15  =  10.361632917973209\n",
            "cost for i:  16  =  10.361632917973209\n",
            "cost for i:  17  =  10.361632917973209\n",
            "cost for i:  18  =  10.361632917973209\n",
            "cost for i:  19  =  10.361632917973209\n"
          ]
        },
        {
          "name": "stderr",
          "output_type": "stream",
          "text": [
            "C:\\Users\\DELL\\AppData\\Local\\Temp\\ipykernel_10712\\3361659293.py:12: VisibleDeprecationWarning: Creating an ndarray from ragged nested sequences (which is a list-or-tuple of lists-or-tuples-or ndarrays with different lengths or shapes) is deprecated. If you meant to do this, you must specify 'dtype=object' when creating the ndarray.\n",
            "  a = np.array([theta, np.array(c)])\n"
          ]
        }
      ],
      "source": [
        "\n",
        "theta = np.random.random(size = (X.shape[0]+1,1))\n",
        "epochs = 20\n",
        "theta_training = Logistic_Regression(X, y.flatten(), epochs, 0.5, theta, 0.5)\n"
      ]
    },
    {
      "cell_type": "code",
      "execution_count": null,
      "id": "7b4e39be",
      "metadata": {
        "id": "7b4e39be"
      },
      "outputs": [],
      "source": [
        "\n",
        "# theta_training = theta_training[:, -1]\n",
        "\n",
        "cost = theta_training[1]\n",
        "theta_training = theta_training[0]\n",
        "\n"
      ]
    },
    {
      "cell_type": "code",
      "execution_count": null,
      "id": "5fb0ae96",
      "metadata": {
        "id": "5fb0ae96",
        "outputId": "6c531215-da22-4ed8-9a9e-68f25e01cd51"
      },
      "outputs": [
        {
          "data": {
            "image/png": "[encoded data removed]",
            "text/plain": [
              "<Figure size 432x288 with 1 Axes>"
            ]
          },
          "metadata": {
            "needs_background": "light"
          },
          "output_type": "display_data"
        }
      ],
      "source": [
        "numEpochs = np.arange(epochs)\n",
        "plt.plot(numEpochs, cost)\n",
        "plt.xlabel(\"Number of epochs\")\n",
        "plt.ylabel(\"Cost at each\")\n",
        "plt.title(\"Cost vs num of epochs\")\n",
        "plt.show()\n"
      ]
    },
    {
      "cell_type": "code",
      "execution_count": null,
      "id": "ffbf058f",
      "metadata": {
        "id": "ffbf058f"
      },
      "outputs": [],
      "source": [
        "def confusion (true, predicted):\n",
        "  classNum = np.unique(true) \n",
        "  s = len(classNum) #s should be equal to 10. \n",
        "  confusion = np.zeros(shape=(s,s))  #since it is multiclass, we will have s * s matrix. \n",
        "  for i in range(s):\n",
        "    for j in range(s): \n",
        "      confusion[i][j] = np.sum( (predicted == classNum[j])  & (true == classNum[i]))\n",
        "  return confusion \n",
        "\n"
      ]
    },
    {
      "cell_type": "code",
      "execution_count": null,
      "id": "1396e41a",
      "metadata": {
        "id": "1396e41a"
      },
      "outputs": [],
      "source": [
        "def accuracy(true, predicted): \n",
        "    ...\n",
        "    conf = confusion (true, predicted)\n",
        "    accuracy = []\n",
        "    \n",
        "    classNum = len(np.unique(true))\n",
        "    for i in range(classNum):\n",
        "        TP = conf[i][i]  #true positive.\n",
        "        total = conf.sum() \n",
        "        TN = 0\n",
        "        #for true negative\n",
        "        for j in range(classNum):\n",
        "            for k in range(classNum):\n",
        "                if j != i and k != i:\n",
        "                    if (j < j - 1):\n",
        "                        j = j + 1\n",
        "                    if (k < k - 1):\n",
        "                        k = k + 1  \n",
        "                TN = TN + conf[j][k]\n",
        "    \n",
        "    accuracy.append((TP + TN)/total)\n",
        "    "
      ]
    },
    {
      "cell_type": "code",
      "execution_count": null,
      "id": "c93a01c5",
      "metadata": {
        "id": "c93a01c5"
      },
      "outputs": [],
      "source": [
        "#evaluation function. \n",
        "def evaluation(theta, test_X, test_Y): \n",
        "    ...\n",
        "    m = test_X.shape[0]\n",
        "    predicted_labels = []\n",
        "    x_0 = np.ones((test_X.shape[1], 1))  \n",
        "    test_X = np.append(test_X, x_0.transpose(), axis =0)\n",
        "    predicted_labels = predict(test_X, theta_training, 0.5)\n",
        "\n",
        "    confusion_matrix = confusion(test_Y, predicted_labels)\n",
        "    a = accuracy(test_Y, predicted_labels)\n",
        "    eval = [confusion_matrix, a]\n",
        "    return eval\n",
        "\n",
        "\n",
        "    "
      ]
    },
    {
      "cell_type": "code",
      "execution_count": null,
      "id": "ad09da04",
      "metadata": {
        "id": "ad09da04",
        "outputId": "5b0b9f7a-326b-4121-eb28-2166de9f789e"
      },
      "outputs": [
        {
          "data": {
            "text/plain": [
              "(3, 1)"
            ]
          },
          "execution_count": 144,
          "metadata": {},
          "output_type": "execute_result"
        }
      ],
      "source": [
        "theta.shape"
      ]
    },
    {
      "cell_type": "code",
      "execution_count": null,
      "id": "5a90bcf2",
      "metadata": {
        "id": "5a90bcf2"
      },
      "outputs": [],
      "source": [
        "evaluating_theta = evaluation(theta_training.transpose(), X_test, yTest)\n",
        "\n"
      ]
    },
    {
      "cell_type": "code",
      "execution_count": null,
      "id": "0ae1eeb8",
      "metadata": {
        "id": "0ae1eeb8",
        "outputId": "6a8dc67b-76de-4f19-cdfe-4db977151548"
      },
      "outputs": [
        {
          "data": {
            "text/plain": [
              "[array([[12500.,     0.],\n",
              "        [12500.,     0.]]),\n",
              " None]"
            ]
          },
          "execution_count": 151,
          "metadata": {},
          "output_type": "execute_result"
        }
      ],
      "source": [
        "evaluating_theta"
      ]
    },
    {
      "cell_type": "markdown",
      "id": "dc1f0697",
      "metadata": {
        "id": "dc1f0697"
      },
      "source": [
        "### Part B: Use Scikit-learn\n",
        "\n",
        "In this part, use scikit-learn’s [Logistic Regression](https://scikit-learn.org/stable/modules/generated/sklearn.linear_model.LogisticRegression.html) implementation to train and test the logistic regression on the provided dataset. Use scikit-learn’s accuracy_score function to calculate the [accuracy](https://scikit-learn.org/stable/modules/generated/sklearn.metrics.accuracy_score.html) and [confusion_matrix](https://scikit-learn.org/stable/modules/generated/sklearn.metrics.confusion_matrix.html) function to calculate confusion matrix on test set."
      ]
    },
    {
      "cell_type": "code",
      "execution_count": null,
      "id": "c7893b68",
      "metadata": {
        "id": "c7893b68"
      },
      "outputs": [],
      "source": [
        "from sklearn.linear_model import LogisticRegression\n",
        "from sklearn import metrics\n",
        "import seaborn as sns"
      ]
    },
    {
      "cell_type": "code",
      "execution_count": null,
      "id": "1f00d2e9",
      "metadata": {
        "id": "1f00d2e9"
      },
      "outputs": [],
      "source": [
        "#Train: \n",
        "\n",
        "x_1 = np.array(x_1)\n",
        "x_2 = np.array(x_2)\n",
        "x_2 = np.reshape(x_2, (x_2.shape[0],1))\n",
        "X = x_1\n",
        "X = np.reshape(X,(x_1.shape[0],1))\n",
        "X = np.append(X, x_2, axis=1)\n",
        "X = X.transpose()\n",
        "y = np.array(y)\n",
        "# y = np.reshape(y, (y.shape[0],1))\n",
        "\n",
        "#Test:\n",
        "t_1 = np.array(t_1)\n",
        "t_2 = np.array(t_2)\n",
        "t_2 = np.reshape(t_2, (t_2.shape[0],1))\n",
        "X_test = t_1\n",
        "X_test = np.reshape(X_test,(t_1.shape[0],1))\n",
        "X_test = np.append(X_test, t_2, axis=1)\n",
        "X_test = X_test.transpose()\n",
        "yTest = np.array(t_y)\n",
        "# yTest = np.reshape(yTest, (yTest.shape[0],1))\n",
        "# print(y.flatten().shape)\n",
        "# print(X.shape)\n"
      ]
    },
    {
      "cell_type": "code",
      "execution_count": null,
      "id": "c26aa0c1",
      "metadata": {
        "id": "c26aa0c1",
        "outputId": "b873cceb-4a1a-4493-c00f-883f6f77d3ab"
      },
      "outputs": [
        {
          "name": "stderr",
          "output_type": "stream",
          "text": [
            "C:\\Users\\DELL\\AppData\\Local\\Packages\\PythonSoftwareFoundation.Python.3.9_qbz5n2kfra8p0\\LocalCache\\local-packages\\Python39\\site-packages\\sklearn\\utils\\validation.py:1111: DataConversionWarning: A column-vector y was passed when a 1d array was expected. Please change the shape of y to (n_samples, ), for example using ravel().\n",
            "  y = column_or_1d(y, warn=True)\n"
          ]
        },
        {
          "ename": "ValueError",
          "evalue": "Found input variables with inconsistent numbers of samples: [2, 25000]",
          "output_type": "error",
          "traceback": [
            "\u001b[1;31m---------------------------------------------------------------------------\u001b[0m",
            "\u001b[1;31mValueError\u001b[0m                                Traceback (most recent call last)",
            "\u001b[1;32me:\\Fall 2022\\Machine Learning\\Assignments\\Programming Assignments\\Assignment 2\\UmamaNasirAbbasi_23100265_Assignment2.ipynb Cell 52\u001b[0m in \u001b[0;36m<cell line: 2>\u001b[1;34m()\u001b[0m\n\u001b[0;32m      <a href='vscode-notebook-cell:/e%3A/Fall%202022/Machine%20Learning/Assignments/Programming%20Assignments/Assignment%202/UmamaNasirAbbasi_23100265_Assignment2.ipynb#X26sZmlsZQ%3D%3D?line=0'>1</a>\u001b[0m logistic_model \u001b[39m=\u001b[39m LogisticRegression()\n\u001b[1;32m----> <a href='vscode-notebook-cell:/e%3A/Fall%202022/Machine%20Learning/Assignments/Programming%20Assignments/Assignment%202/UmamaNasirAbbasi_23100265_Assignment2.ipynb#X26sZmlsZQ%3D%3D?line=1'>2</a>\u001b[0m logistic_model\u001b[39m.\u001b[39;49mfit(temp_X, temp_y)\n\u001b[0;32m      <a href='vscode-notebook-cell:/e%3A/Fall%202022/Machine%20Learning/Assignments/Programming%20Assignments/Assignment%202/UmamaNasirAbbasi_23100265_Assignment2.ipynb#X26sZmlsZQ%3D%3D?line=3'>4</a>\u001b[0m predict_y \u001b[39m=\u001b[39m logistic_model\u001b[39m.\u001b[39mpredict(X_test)\n\u001b[0;32m      <a href='vscode-notebook-cell:/e%3A/Fall%202022/Machine%20Learning/Assignments/Programming%20Assignments/Assignment%202/UmamaNasirAbbasi_23100265_Assignment2.ipynb#X26sZmlsZQ%3D%3D?line=4'>5</a>\u001b[0m accuracy \u001b[39m=\u001b[39m metrics\u001b[39m.\u001b[39maccuracy_score(yTest,predict_y)\n",
            "File \u001b[1;32m~\\AppData\\Local\\Packages\\PythonSoftwareFoundation.Python.3.9_qbz5n2kfra8p0\\LocalCache\\local-packages\\Python39\\site-packages\\sklearn\\linear_model\\_logistic.py:1138\u001b[0m, in \u001b[0;36mLogisticRegression.fit\u001b[1;34m(self, X, y, sample_weight)\u001b[0m\n\u001b[0;32m   1135\u001b[0m \u001b[39melse\u001b[39;00m:\n\u001b[0;32m   1136\u001b[0m     _dtype \u001b[39m=\u001b[39m [np\u001b[39m.\u001b[39mfloat64, np\u001b[39m.\u001b[39mfloat32]\n\u001b[1;32m-> 1138\u001b[0m X, y \u001b[39m=\u001b[39m \u001b[39mself\u001b[39;49m\u001b[39m.\u001b[39;49m_validate_data(\n\u001b[0;32m   1139\u001b[0m     X,\n\u001b[0;32m   1140\u001b[0m     y,\n\u001b[0;32m   1141\u001b[0m     accept_sparse\u001b[39m=\u001b[39;49m\u001b[39m\"\u001b[39;49m\u001b[39mcsr\u001b[39;49m\u001b[39m\"\u001b[39;49m,\n\u001b[0;32m   1142\u001b[0m     dtype\u001b[39m=\u001b[39;49m_dtype,\n\u001b[0;32m   1143\u001b[0m     order\u001b[39m=\u001b[39;49m\u001b[39m\"\u001b[39;49m\u001b[39mC\u001b[39;49m\u001b[39m\"\u001b[39;49m,\n\u001b[0;32m   1144\u001b[0m     accept_large_sparse\u001b[39m=\u001b[39;49msolver \u001b[39mnot\u001b[39;49;00m \u001b[39min\u001b[39;49;00m [\u001b[39m\"\u001b[39;49m\u001b[39mliblinear\u001b[39;49m\u001b[39m\"\u001b[39;49m, \u001b[39m\"\u001b[39;49m\u001b[39msag\u001b[39;49m\u001b[39m\"\u001b[39;49m, \u001b[39m\"\u001b[39;49m\u001b[39msaga\u001b[39;49m\u001b[39m\"\u001b[39;49m],\n\u001b[0;32m   1145\u001b[0m )\n\u001b[0;32m   1146\u001b[0m check_classification_targets(y)\n\u001b[0;32m   1147\u001b[0m \u001b[39mself\u001b[39m\u001b[39m.\u001b[39mclasses_ \u001b[39m=\u001b[39m np\u001b[39m.\u001b[39munique(y)\n",
            "File \u001b[1;32m~\\AppData\\Local\\Packages\\PythonSoftwareFoundation.Python.3.9_qbz5n2kfra8p0\\LocalCache\\local-packages\\Python39\\site-packages\\sklearn\\base.py:596\u001b[0m, in \u001b[0;36mBaseEstimator._validate_data\u001b[1;34m(self, X, y, reset, validate_separately, **check_params)\u001b[0m\n\u001b[0;32m    594\u001b[0m         y \u001b[39m=\u001b[39m check_array(y, input_name\u001b[39m=\u001b[39m\u001b[39m\"\u001b[39m\u001b[39my\u001b[39m\u001b[39m\"\u001b[39m, \u001b[39m*\u001b[39m\u001b[39m*\u001b[39mcheck_y_params)\n\u001b[0;32m    595\u001b[0m     \u001b[39melse\u001b[39;00m:\n\u001b[1;32m--> 596\u001b[0m         X, y \u001b[39m=\u001b[39m check_X_y(X, y, \u001b[39m*\u001b[39m\u001b[39m*\u001b[39mcheck_params)\n\u001b[0;32m    597\u001b[0m     out \u001b[39m=\u001b[39m X, y\n\u001b[0;32m    599\u001b[0m \u001b[39mif\u001b[39;00m \u001b[39mnot\u001b[39;00m no_val_X \u001b[39mand\u001b[39;00m check_params\u001b[39m.\u001b[39mget(\u001b[39m\"\u001b[39m\u001b[39mensure_2d\u001b[39m\u001b[39m\"\u001b[39m, \u001b[39mTrue\u001b[39;00m):\n",
            "File \u001b[1;32m~\\AppData\\Local\\Packages\\PythonSoftwareFoundation.Python.3.9_qbz5n2kfra8p0\\LocalCache\\local-packages\\Python39\\site-packages\\sklearn\\utils\\validation.py:1092\u001b[0m, in \u001b[0;36mcheck_X_y\u001b[1;34m(X, y, accept_sparse, accept_large_sparse, dtype, order, copy, force_all_finite, ensure_2d, allow_nd, multi_output, ensure_min_samples, ensure_min_features, y_numeric, estimator)\u001b[0m\n\u001b[0;32m   1074\u001b[0m X \u001b[39m=\u001b[39m check_array(\n\u001b[0;32m   1075\u001b[0m     X,\n\u001b[0;32m   1076\u001b[0m     accept_sparse\u001b[39m=\u001b[39maccept_sparse,\n\u001b[1;32m   (...)\u001b[0m\n\u001b[0;32m   1087\u001b[0m     input_name\u001b[39m=\u001b[39m\u001b[39m\"\u001b[39m\u001b[39mX\u001b[39m\u001b[39m\"\u001b[39m,\n\u001b[0;32m   1088\u001b[0m )\n\u001b[0;32m   1090\u001b[0m y \u001b[39m=\u001b[39m _check_y(y, multi_output\u001b[39m=\u001b[39mmulti_output, y_numeric\u001b[39m=\u001b[39my_numeric, estimator\u001b[39m=\u001b[39mestimator)\n\u001b[1;32m-> 1092\u001b[0m check_consistent_length(X, y)\n\u001b[0;32m   1094\u001b[0m \u001b[39mreturn\u001b[39;00m X, y\n",
            "File \u001b[1;32m~\\AppData\\Local\\Packages\\PythonSoftwareFoundation.Python.3.9_qbz5n2kfra8p0\\LocalCache\\local-packages\\Python39\\site-packages\\sklearn\\utils\\validation.py:387\u001b[0m, in \u001b[0;36mcheck_consistent_length\u001b[1;34m(*arrays)\u001b[0m\n\u001b[0;32m    385\u001b[0m uniques \u001b[39m=\u001b[39m np\u001b[39m.\u001b[39munique(lengths)\n\u001b[0;32m    386\u001b[0m \u001b[39mif\u001b[39;00m \u001b[39mlen\u001b[39m(uniques) \u001b[39m>\u001b[39m \u001b[39m1\u001b[39m:\n\u001b[1;32m--> 387\u001b[0m     \u001b[39mraise\u001b[39;00m \u001b[39mValueError\u001b[39;00m(\n\u001b[0;32m    388\u001b[0m         \u001b[39m\"\u001b[39m\u001b[39mFound input variables with inconsistent numbers of samples: \u001b[39m\u001b[39m%r\u001b[39;00m\u001b[39m\"\u001b[39m\n\u001b[0;32m    389\u001b[0m         \u001b[39m%\u001b[39m [\u001b[39mint\u001b[39m(l) \u001b[39mfor\u001b[39;00m l \u001b[39min\u001b[39;00m lengths]\n\u001b[0;32m    390\u001b[0m     )\n",
            "\u001b[1;31mValueError\u001b[0m: Found input variables with inconsistent numbers of samples: [2, 25000]"
          ]
        }
      ],
      "source": [
        "\n",
        "logistic_model = LogisticRegression()\n",
        "logistic_model.fit(temp_X, temp_y)\n",
        "\n",
        "predict_y = logistic_model.predict(X_test)\n",
        "accuracy = metrics.accuracy_score(yTest,predict_y)\n",
        "logistic_confusion_matrix = metrics.confusion_matrix(yTest, predict_y)\n"
      ]
    },
    {
      "cell_type": "code",
      "execution_count": null,
      "id": "dd569b58",
      "metadata": {
        "id": "dd569b58"
      },
      "outputs": [],
      "source": [
        "plt.figure(figsize=(6,6))\n",
        "sns.heatmap(logistic_confusion_matrix, annot = True, fmt = \".3f\", linewidth = 0.6, square = True, cmap = 'Blues_r')\n",
        "plt.ylabel(\"Gold Labels\")\n",
        "plt.xlabel(\"Predicted Labels\")\n",
        "plt.title(\"Accuracy Score : \", str(accuracy))\n"
      ]
    }
  ],
  "metadata": {
    "kernelspec": {
      "display_name": "Python 3.9.13 64-bit (microsoft store)",
      "language": "python",
      "name": "python3"
    },
    "language_info": {
      "codemirror_mode": {
        "name": "ipython",
        "version": 3
      },
      "file_extension": ".py",
      "mimetype": "text/x-python",
      "name": "python",
      "nbconvert_exporter": "python",
      "pygments_lexer": "ipython3",
      "version": "3.9.13"
    },
    "vscode": {
      "interpreter": {
        "hash": "970a2a4939579a4c22872227820a264ec023ee5692739211cbaca24386397975"
      }
    },
    "colab": {
      "provenance": []
    }
  },
  "nbformat": 4,
  "nbformat_minor": 5
}